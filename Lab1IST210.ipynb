{
  "nbformat": 4,
  "nbformat_minor": 0,
  "metadata": {
    "colab": {
      "name": "Lab1IST210.ipynb",
      "provenance": [],
      "authorship_tag": "ABX9TyMvWLKA5px8hMPmzABe6Khd",
      "include_colab_link": true
    },
    "kernelspec": {
      "name": "python3",
      "display_name": "Python 3"
    }
  },
  "cells": [
    {
      "cell_type": "markdown",
      "metadata": {
        "id": "view-in-github",
        "colab_type": "text"
      },
      "source": [
        "<a href=\"https://colab.research.google.com/github/krittika2000/IST210/blob/master/Lab1IST210.ipynb\" target=\"_parent\"><img src=\"https://colab.research.google.com/assets/colab-badge.svg\" alt=\"Open In Colab\"/></a>"
      ]
    },
    {
      "cell_type": "markdown",
      "metadata": {
        "id": "Gjz1dQLqJeJs",
        "colab_type": "text"
      },
      "source": [
        "### Krittika Shahani"
      ]
    },
    {
      "cell_type": "markdown",
      "metadata": {
        "id": "nb0605gxJpUB",
        "colab_type": "text"
      },
      "source": [
        "### IST related interests\n",
        "\n",
        "To learn more about how data systems work . My interests mainly lie in artificial intelligence and machine learning, through this class i hope to learn more about these topics. "
      ]
    },
    {
      "cell_type": "markdown",
      "metadata": {
        "id": "T6kwd4yEKDF5",
        "colab_type": "text"
      },
      "source": [
        "I would like to work with AI in the future . Probably would also love to work with databases and analysing data. "
      ]
    }
  ]
}