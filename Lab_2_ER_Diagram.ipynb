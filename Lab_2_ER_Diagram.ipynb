{
  "nbformat": 4,
  "nbformat_minor": 0,
  "metadata": {
    "colab": {
      "name": "Lab 2 :ER Diagram.ipynb",
      "provenance": [],
      "authorship_tag": "ABX9TyMNuQGixPvNtyeTx411Fl4y",
      "include_colab_link": true
    },
    "kernelspec": {
      "name": "python3",
      "display_name": "Python 3"
    }
  },
  "cells": [
    {
      "cell_type": "markdown",
      "metadata": {
        "id": "view-in-github",
        "colab_type": "text"
      },
      "source": [
        "<a href=\"https://colab.research.google.com/github/krittika2000/IST210/blob/master/Lab_2_ER_Diagram.ipynb\" target=\"_parent\"><img src=\"https://colab.research.google.com/assets/colab-badge.svg\" alt=\"Open In Colab\"/></a>"
      ]
    },
    {
      "cell_type": "markdown",
      "metadata": {
        "id": "yQehbq5gOwhY",
        "colab_type": "text"
      },
      "source": [
        "This ER diagram consists of 6 tables each containing 3 or more attributes. Each table relates to one Entity, namely, Food Transaction(table for the food the customer wants to purchase for his or her pet ,one to many relationship), Animal Transaction(for the pets that the customers will purchase, also one to many) , Food ( that the store purchases to feed the pets, many to many),Customers(to keep record of the customers who make purchases from the store, each customer has a unique loyalty id that they can use to get discounts on their purchases), Enclosures(to keep track/record which animal is kept in which enclosure) and Pets(to record the unique pet ID i.e. to identify which animal is kept in which enclosure , sold to which customer , etc.)"
      ]
    },
    {
      "cell_type": "markdown",
      "metadata": {
        "id": "eAURhHHrXSgu",
        "colab_type": "text"
      },
      "source": [
        "![alt text](https://github.com/krittika2000/IST210/blob/master/LAB%202%20:ER%20Diagram.png?raw=true)"
      ]
    }
  ]
}